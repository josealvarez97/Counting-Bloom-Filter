{
 "cells": [
  {
   "cell_type": "markdown",
   "metadata": {},
   "source": [
    "# Assignment 2 - CS110"
   ]
  },
  {
   "cell_type": "markdown",
   "metadata": {},
   "source": [
    "## 1. Counting Bloom Filters - An Overview"
   ]
  },
  {
   "cell_type": "markdown",
   "metadata": {},
   "source": [
    "**The problem:**\n",
    "\n",
    "Let us aim for a data structure that supports the necessary operations to know whether a given element $e$ is in the set $A$. \n",
    "\n",
    "**The simplest, but inneficient, solution:**\n",
    "\n",
    "The simplest way to achieve this would be through the use of a linear vector $v$ that stores each of the elements in $A$. The operation to check whether the element is in the set or not would consist in iterating $v$ and checking each of the positions in the vector. It is trivial that such operation would have a time complexity of $O(n)$.\n",
    "\n",
    "**How to do a little bit better?**\n",
    "\n",
    "We may do better if we store the elements in a hash table that allows us to access the elements (and hence check whether they exist or not) in $\\Theta(1)$ time. But this would be a waste of space. We would be storing the elements even though we are only interested in checking whether they are in the set $A$ or not.\n",
    "\n",
    "Instead, it would be more efficient to just record their \"existence\" in the set. In other words, to use only one bit of information to record either **$(1)$ if $e$ is in $A$**, or **$(0)$ if $e$ is *not* in $A$**. We would certainly start with a hash table filled with zeros, and would switch bits in the aproppriate cells to *one* after building the table (inserting the elements of $A$).\n",
    "\n",
    "However, under this setting, collisions are devastating. We cannot possibly differentiate whether the $1$ already placed in a given cell corresponds to the existence of the element $e$ that a query is asking for (in addition, traditional approaches to handle collisions in hash tables would not be applicable). \n",
    "\n",
    "**How to, actually, do better? - *BLOOM FILTERS***\n",
    "\n",
    "**We may use, then,** more than one hash function ($h_1,h_2,h_3...$) to place a $1$ in each of the different slots that the set of hash functions being used return for a given element $e$. Then, when querying for an element, it will be *unlikely* that all the slots returned by all the hashes for a given element $e_1$ as input, will be exactly the same one as for another element $e_2$. This is the idea of a ***Bloom Filter***.\n",
    "\n",
    "One may emphasize on the use of the word *unlikely*. It is still, essentially, possible that two elements point toward the same exact slots. **In addition**, it is also quite (and more) possible that an element $e_1$ points toward slots that interfere with the ones of many other elements (not necessarily only the ones of $e_2$, but also either $e_3, e_4, ..., e_n$). When this happens, the query will equivocally return that the element exist - this is known as a **false positive**. The opposite, **false negatives**, cannot (trivially) occur because if an element was ever inserted, all the corresponding slots would have been switched to one after building the table.\n",
    "\n",
    "The number of hash functions used is denoted by $k$. Depending on the value of $k$ and the number of elements $m$, the ratio of false positives will be more, or less, optimal.\n",
    "\n",
    "So, even though we do not get rid entirely of the possibility of false positives, Bloom Filters are certainly a step forward toward making such possibility more unlikely (compared to the possible approach described in the previous section). One may also note that if one actually chooses $k=1$, the Bloom Filter is essentially equivalent to such approach in the previous section (but no one would ever certainly do that, unless we want to ruin the whole purpose of Bloom Filters). \n",
    "\n",
    "#### **What about deletions..? - *COUNTING BLOOM FILTERS***\n",
    "\n",
    "Traditional bloom filters cannot support the removal of items, because if we remove a $1$ (switch the respective bit to $0$) from a slot, it is likely that we will be affecting the slots of many other elements - allowing the possibility of later having several false negatives.\n",
    "\n",
    "A way to resolve this is through the use of a ***Counting Bloom Filter***. In Counting Bloom Filters, there is a (n-bit) counter on each slot of the table, instead of just a single bit of information for representing either just $1$ or $0$. The counter goes up every time a value is inserted, and down every time a value is removed. For example, if we aim to remove element $e_1$, all counters of all the corresponding slots in the Counting Bloom Filter go down by one. Later, when we do a query for $e_1$, we would expect that it is *likely* that at least one of the corresponding slots for $e_1$ would have gone down to zero (but not necessarily all of them). If that is the (likely) case, the query returns negative, as we would expect. On the other hand, if that is not the case (because enough other elements were \"inserted\" in the same slots corresponding to $e_1$), the query would unfortunately return a false positive (not a negative, as it \"should\" have). \n"
   ]
  },
  {
   "cell_type": "markdown",
   "metadata": {},
   "source": [
    "## 2. Implementation of a Counting Bloom Filter"
   ]
  },
  {
   "cell_type": "code",
   "execution_count": 151,
   "metadata": {},
   "outputs": [],
   "source": [
    "import random\n",
    "import string\n",
    "import math\n",
    "\n",
    "\n",
    "def randomword(length):\n",
    "    return ''.join(random.choice(string.ascii_lowercase) for i in range(length))\n",
    "\n",
    "def randomwords_list(list_length, word_length):\n",
    "    rword_list = []\n",
    "    \n",
    "    for i in range(list_length):\n",
    "        rword = randomword(word_length)\n",
    "        rword_list.append(rword)\n",
    "        \n",
    "    return rword_list\n",
    "        \n",
    "    \n",
    "\n",
    "def empty_hash_table(N):\n",
    "    return [0 for n in range(N)]\n",
    "\n",
    "# p stands for false positive rate\n",
    "# n stands for the number of items to store.\n",
    "def empty_bloom_filter(p,n):\n",
    "    \n",
    "    \n",
    "    # Calculate the corresponding memory size m\n",
    "    m = - math.floor((n * math.log(p))/(math.log(2)**2))\n",
    "    \n",
    "    # Create the bloom filter based on this parameters\n",
    "    bfilter_table = empty_hash_table(m)\n",
    "    \n",
    "    return bfilter_table\n",
    "    \n",
    "def required_k(p):\n",
    "    # Calculate the required number of hash functions\n",
    "    # for the desired p.\n",
    "    k = (-1)* round(math.log(p,2))\n",
    "    \n",
    "    return k \n",
    "\n",
    "def add_to_hash_table(hash_table, item, hash_functions):\n",
    "    N = len(hash_table)\n",
    "    \n",
    "    for i in range(len(hash_functions)):\n",
    "        index = hash_functions[i](item) % N    \n",
    "        hash_table[index] += 1\n",
    "    \n",
    "    return hash_table\n",
    "\n",
    "\n",
    "def contains(hash_table, item, hash_functions):\n",
    "    N = len(hash_table)\n",
    "    \n",
    "    for i in range(len(hash_functions)):\n",
    "        index = hash_functions[i](item) % N  \n",
    "        \n",
    "        if hash_table[index] == 0:\n",
    "            return False\n",
    "        \n",
    "    return True\n",
    "    \n",
    "    # return true if the item has already been stored in the hash_table\n",
    "\n",
    "\n",
    "def remove(hash_table, item, hash_functions):\n",
    "    if not contains(hash_table, item, hash_functions):\n",
    "        raise ValueError()\n",
    "\n",
    "    N = len(hash_table)\n",
    "    \n",
    "    for i in range(len(hash_functions)):\n",
    "        index = hash_functions[i](item) % N\n",
    "        if hash_table[index] != 0:\n",
    "            hash_table[index] -= 1\n",
    "    \n",
    "    return hash_table\n",
    "\n",
    "\n",
    "# PURE TRASH\n",
    "def hash_str1(string):\n",
    "    ans = 0\n",
    "    for chr in string:\n",
    "        ans += ord(chr)\n",
    "    return ans\n",
    "\n",
    "# REALLY BAD\n",
    "def hash_str2(string):\n",
    "    ans = 0\n",
    "    for chr in string:\n",
    "        ans = ans ^ ord(chr)\n",
    "    return ans\n",
    "\n",
    "# ALSO BAD\n",
    "def hash_str3(string):\n",
    "    ans = 0\n",
    "    for chr in string:\n",
    "        ans = ans * 128 + ord(chr)\n",
    "    return ans\n",
    "\n",
    "# STUPIDLY TERRIBLE\n",
    "def hash_str4(string):\n",
    "    random.seed(ord(string[0]))\n",
    "    return random.getrandbits(32)\n",
    "\n",
    "\n",
    "def hash_template(string, offset=0):\n",
    "    ans = 0\n",
    "    \n",
    "    for i in range(offset):\n",
    "        ans += \"*\"\n",
    "    return ans\n",
    "\n",
    "# Produces a hash functioon based on a template by considering a template as a parameter\n",
    "def make_hash_function(offset):\n",
    "    \n",
    "    # HASH FUNCTION TEMPLATE\n",
    "    def hash_function(string):\n",
    "        # If we need an offset for the input, we add it.\n",
    "        # As we're dealing with strings, we'll just add \"*\"\n",
    "        # as many times as necessary.\n",
    "        for i in range(offset):\n",
    "            string += \"*\"\n",
    "\n",
    "        # Compute the hash code\n",
    "        ans = 0\n",
    "        for i in range(len(string)):\n",
    "            ans = 31*ans + ord(string[i])\n",
    "            \n",
    "        return ans # Inpired in Hurner's Rule\n",
    "        \n",
    "    return hash_function\n",
    "\n",
    "# Generates a list of \"different\" hash functions\n",
    "def hash_functions_generator(k):\n",
    "    \n",
    "    hashes_list = []\n",
    "    \n",
    "    for offset_i in range(0,k):\n",
    "        hash_func = make_hash_function(offset_i)\n",
    "        hashes_list.append(hash_func)\n",
    "        \n",
    "    return hashes_list"
   ]
  },
  {
   "cell_type": "code",
   "execution_count": 125,
   "metadata": {},
   "outputs": [
    {
     "data": {
      "text/plain": [
       "3"
      ]
     },
     "execution_count": 125,
     "metadata": {},
     "output_type": "execute_result"
    }
   ],
   "source": [
    "required_k(0.1)"
   ]
  },
  {
   "cell_type": "code",
   "execution_count": 142,
   "metadata": {},
   "outputs": [
    {
     "name": "stdout",
     "output_type": "stream",
     "text": [
      "61778823204871713\n",
      "1915143519351023145\n",
      "59369449099881717537\n",
      "1840452922096333243689\n",
      "57054040584986330554401\n"
     ]
    }
   ],
   "source": [
    "k = 5\n",
    "hasheslist = hash_functions_generator(k)\n",
    "\n",
    "for i in range(k):\n",
    "    print(hasheslist[i](\"HelloWorld!\"))\n"
   ]
  },
  {
   "cell_type": "code",
   "execution_count": 43,
   "metadata": {},
   "outputs": [
    {
     "data": {
      "text/plain": [
       "4123000827"
      ]
     },
     "execution_count": 43,
     "metadata": {},
     "output_type": "execute_result"
    }
   ],
   "source": [
    "hash_str4(\"hello9\")"
   ]
  },
  {
   "cell_type": "code",
   "execution_count": 80,
   "metadata": {},
   "outputs": [
    {
     "name": "stdout",
     "output_type": "stream",
     "text": [
      "Given the desired false positive rate p:  0.1\n",
      "Given the number of items to store n:  3\n",
      "\n",
      "Table:  [0, 0, 0, 0, 0, 0, 0, 0, 0, 0, 0, 0, 0, 0, 0]\n",
      "\n",
      "...Adding x...\n",
      "...Adding y...\n",
      "...Adding z...\n",
      "\n",
      "\n",
      "Table:  [1, 1, 1, 0, 0, 0, 1, 1, 1, 1, 1, 1, 1, 1, 1]\n",
      "\n",
      "Contains x? True\n",
      "Contains y? True\n",
      "Contains z? True\n",
      "Contains a (An element that was never inserted) ? False\n",
      "\n",
      "...Removing y...\n",
      "\n",
      "Table:  [1, 0, 1, 0, 0, 0, 1, 0, 1, 1, 0, 1, 1, 0, 1]\n",
      "\n",
      "Contains x? True\n",
      "Contains y? False\n",
      "Contains z? True\n",
      "\n",
      "...Removing x...\n",
      "\n",
      "Table:  [0, 0, 1, 0, 0, 0, 0, 0, 1, 0, 0, 1, 0, 0, 1]\n",
      "\n",
      "Contains x? False\n",
      "Contains y? False\n",
      "Contains z? True\n",
      "\n",
      "...Removing z...\n",
      "\n",
      "Table:  [0, 0, 0, 0, 0, 0, 0, 0, 0, 0, 0, 0, 0, 0, 0]\n",
      "\n",
      "Contains x? False\n",
      "Contains y? False\n",
      "Contains z? False\n",
      "\n",
      "Table:  [0, 0, 0, 0, 0, 0, 0, 0, 0, 0, 0, 0, 0, 0, 0]\n"
     ]
    }
   ],
   "source": [
    "rword = randomword(11)\n",
    "\n",
    "p = 0.1\n",
    "n = 3\n",
    "\n",
    "htable = empty_bloom_filter(0.1,3)\n",
    "\n",
    "hashes_list = hash_functions_generator(4)\n",
    "# hashes_list.append(hash_str1)\n",
    "# hashes_list.append(hash_str2)\n",
    "# hashes_list.append(hash_str3)\n",
    "# hashes_list.append(hash_str4)\n",
    "#print(hashes_list)\n",
    "\n",
    "print(\"Given the desired false positive rate p: \", p)\n",
    "print(\"Given the number of items to store n: \", n)\n",
    "print(\"\\nTable: \", htable)\n",
    "\n",
    "print(\"\\n...Adding x...\")\n",
    "add_to_hash_table(htable, \"x\", hashes_list)\n",
    "print(\"...Adding y...\")\n",
    "add_to_hash_table(htable, \"y\", hashes_list)\n",
    "print(\"...Adding z...\\n\")\n",
    "add_to_hash_table(htable, \"z\", hashes_list)\n",
    "\n",
    "print(\"\\nTable: \", htable)\n",
    "\n",
    "\n",
    "print(\"\\nContains x?\", contains(htable, \"z\", hashes_list))\n",
    "print(\"Contains y?\", contains(htable, \"y\", hashes_list))\n",
    "print(\"Contains z?\", contains(htable, \"z\", hashes_list))\n",
    "\n",
    "print(\"Contains a (An element that was never inserted) ?\", contains(htable, \"a\", hashes_list))\n",
    "\n",
    "\n",
    "\n",
    "print(\"\\n...Removing y...\\n\")\n",
    "remove(htable, \"y\", hashes_list)\n",
    "print(\"Table: \", htable)\n",
    "\n",
    "print(\"\\nContains x?\", contains(htable, \"x\", hashes_list))\n",
    "print(\"Contains y?\", contains(htable, \"y\", hashes_list))\n",
    "print(\"Contains z?\", contains(htable, \"z\", hashes_list))\n",
    "\n",
    "print(\"\\n...Removing x...\\n\")\n",
    "remove(htable, \"x\", hashes_list)\n",
    "print(\"Table: \", htable)\n",
    "print(\"\\nContains x?\", contains(htable, \"x\", hashes_list))\n",
    "print(\"Contains y?\", contains(htable, \"y\", hashes_list))\n",
    "print(\"Contains z?\", contains(htable, \"z\", hashes_list))\n",
    "\n",
    "print(\"\\n...Removing z...\\n\")\n",
    "remove(htable, \"z\", hashes_list)\n",
    "print(\"Table: \", htable)\n",
    "print(\"\\nContains x?\", contains(htable, \"x\", hashes_list))\n",
    "print(\"Contains y?\", contains(htable, \"y\", hashes_list))\n",
    "print(\"Contains z?\", contains(htable, \"z\", hashes_list))\n",
    "\n",
    "print(\"\\nTable: \", htable)\n",
    "\n",
    "\n",
    "\n",
    "\n"
   ]
  },
  {
   "cell_type": "markdown",
   "metadata": {},
   "source": [
    "## 3. Description of Implemented Hash Functions"
   ]
  },
  {
   "cell_type": "markdown",
   "metadata": {},
   "source": [
    "In order to produce $k$ hash functions, a *hash_functions_generator* is used. This function, produces $k$ hash functions based on a single template of a hash function for strings (that will be described later). The key is that in order to produce $k$ different functions based on the template, the generator applies an increasing offset that affects the input of the hash function prior to execute the algorithm of the template. To make each of these points clear, we will start by describing the template hash function and afterwards the *hash_functions_generator*. \n",
    "\n",
    "### Template Hash Function:\n",
    "\n",
    "The function computes a polynomial whose coefficients are the ASCII integer values of the chars in the input string. In other words, given the polynomial\n",
    "\n",
    "$$p(x) = \\sum_{i=0}^{n} a_ix^i = a_0+a_1x+a_2x^2+...+a_nx^n$$\n",
    "\n",
    "We define $a_i$ as the value corresponding to the $i_{th}$ char in the input string. $x$ is an arbitrary integer (for this implementation, $x=31$).\n",
    "\n",
    "However, in order to make this polynomial feasable to compute, a new sequence of constants is defined as follows:\n",
    "\n",
    "$$b_n:=a_n$$\n",
    "$$b_{n-1}:=a_{n-1}+b_{n}x_0$$\n",
    "$$.$$\n",
    "$$.$$\n",
    "$$.$$\n",
    "$$b_{0}:=a_{0}+b_{1}x_0$$\n",
    "\n",
    "**Where $b_0$ is then the value of $p(x_0)$.** This function is inspired in the algorithm for computing polynomials known as [Hurner's Rule](https://en.wikipedia.org/wiki/Horner%27s_method).\n",
    "\n",
    "### Producing several hash functions from the template hash function \n",
    "\n",
    "Under the premise that by having a good hash function with a wide output, there will not be correlation between similar inputs of such a hash, one can use such hash function to generate multiple *different* hash functions by passking $k$ different initial values based on the original input. For example, if the input were numbers, for number $8$, we would pass $8,9,...,8+k-1$ to the hash function to simulate the output of many $k$ hash functions. In the case of strings, we may append a dummy value (e.g., \"*\"), that we will call an offset, $k-1$ times (which is what the generator in this implementation does). \n",
    "\n",
    "Here's the excerpt of the code that produces a different hash function, from a template, by considering an offset:\n",
    "\n",
    "\n",
    "```python\n",
    "# Produces a hash functioon based on a template by considering a template as a parameter\n",
    "def make_hash_function(offset):\n",
    "    \n",
    "    # HASH FUNCTION TEMPLATE\n",
    "    def hash_function(string):\n",
    "        # If we need an offset for the input, we add it.\n",
    "        # As we're dealing with strings, we'll just add \"*\"\n",
    "        # as many times as necessary.\n",
    "        for i in range(offset):\n",
    "            string += \"*\"\n",
    "\n",
    "        # Compute the hash code\n",
    "        ans = 0\n",
    "        for i in range(len(string)):\n",
    "            ans = 31*ans + ord(string[i])\n",
    "            \n",
    "        return ans # Inpired in Hurner's Rule\n",
    "        \n",
    "    return hash_function\n",
    "```\n",
    "\n",
    "And here is the excerpt of the code that models the generator. It sends offset's from $i=0$ to $i=k-1$ to the *make_hash_function* method and returns all the results in a python list\n",
    "\n",
    "```python\n",
    "# Generates a list of \"different\" hash functions\n",
    "def hash_functions_generator(k):\n",
    "    \n",
    "    hashes_list = []\n",
    "    \n",
    "    for offset_i in range(0,k):\n",
    "        hash_func = make_hash_function(offset_i)\n",
    "        hashes_list.append(hash_func)\n",
    "        \n",
    "    return hashes_list\n",
    "```\n",
    "\n",
    "**Below is a demonstration that the different generated hash functions produce values that are *\"disparate enough\"* for $k=5$ and $input = \"HelloWorld!$\".** "
   ]
  },
  {
   "cell_type": "code",
   "execution_count": 152,
   "metadata": {},
   "outputs": [
    {
     "name": "stdout",
     "output_type": "stream",
     "text": [
      "61778823204871713\n",
      "1915143519351023145\n",
      "59369449099881717537\n",
      "1840452922096333243689\n",
      "57054040584986330554401\n"
     ]
    }
   ],
   "source": [
    "k = 5\n",
    "hasheslist = hash_functions_generator(k)\n",
    "\n",
    "for i in range(k):\n",
    "    print(hasheslist[i](\"HelloWorld!\"))\n"
   ]
  },
  {
   "cell_type": "markdown",
   "metadata": {},
   "source": [
    "## 4. Scale of Growth of Different Variables "
   ]
  },
  {
   "cell_type": "markdown",
   "metadata": {},
   "source": [
    "### 4.1 Memory size as a function of the false positive rate"
   ]
  },
  {
   "cell_type": "markdown",
   "metadata": {},
   "source": [
    "According to (Starobinski, Trachtenberg & Agarwal, 2003), the length of a Bloom filter $m$ ought to be approximately: \n",
    "\n",
    "$m=-\\frac{n \\ln p}{(ln2)^2}$\n",
    "\n",
    "Thus, assumming a fixed $n$, the memory size $m$ of the Bloom filter grows proportionally to $\\ln p$. \n",
    "\n",
    "Therefore, **we may attempt to describe the space complexity of a bloom filter as a function of $p$ with:**\n",
    "\n",
    "#### $m_{(p)}=O(\\ln p)$\n",
    "\n",
    "**However**, by applying asymptotic notation to this problem, we miss the essential fact that as $p$ increases, $m$ decreases. Something that we must keep in mind, besides the fact that $0 \\leq p \\leq 1$. \n",
    "\n",
    "**Hence**, it is certainly **not accurate** to apply asymptotic notation to variables that are not explicitely defined as a function of $n$. For this reason, the fact to keep present is that $m$ **is inversely proportional to $p$**, or:\n",
    "## $m \\propto \\frac{1}{p}$\n",
    "\n"
   ]
  },
  {
   "cell_type": "markdown",
   "metadata": {},
   "source": [
    "### 4.2 Memory size as a function of the number of items stored"
   ]
  },
  {
   "cell_type": "markdown",
   "metadata": {},
   "source": [
    "Recalling that according to (Starobinski et. al., 2003), the length of a Bloom filter $m$ is approximately: \n",
    "\n",
    "$m=-\\frac{n \\ln p}{(ln2)^2}$\n",
    "\n",
    "We realize that for a *given* false positive rate (or probability) $p$, the length of a Bloom filter $m$ is proportionate to the number of items stored $n$.\n",
    "\n",
    "**Therefore, the space complexity of $m$, as a function of the number of items stored $n$, is described by:** \n",
    "\n",
    "### $m_{(n)} = O(n)$\n",
    "\n",
    " \n",
    "One may recall that the required number of hash functions $k$ directly depends on the target false positive rate $p$, which one chooses arbitrarily.\n"
   ]
  },
  {
   "cell_type": "markdown",
   "metadata": {},
   "source": [
    "### 4.3 Access time as a function of the false positive rate"
   ]
  },
  {
   "cell_type": "markdown",
   "metadata": {},
   "source": [
    "Because Bloom filters rely on hashes to insert and access the slots in the table, **the access time is described by $O(1)$.** \n",
    "\n",
    "\n",
    "In other words, access time is only **affected by $k$**, which is a constant, but **NOT** in proportion to the size of the bloom filter $m$, the number of items stored $n$, **or the false positive rate $p$.**\n",
    "\n",
    "I.g., \n",
    "#### $Access\\ Time_{(p)} = O(k) \\rightarrow O(1)$.  "
   ]
  },
  {
   "cell_type": "markdown",
   "metadata": {},
   "source": [
    "### 4.4 Access time as a function of the number of items stored"
   ]
  },
  {
   "cell_type": "markdown",
   "metadata": {},
   "source": [
    "Under the same reasoning, because Bloom filters rely on hash functions to insert and access the slots in the table, **the access time is described by $O(1)$.** It is not affected by $n$.\n",
    "\n",
    "I.g., \n",
    "#### $Access\\ Time_{(n)} = O(k) \\rightarrow O(1)$.  "
   ]
  },
  {
   "cell_type": "markdown",
   "metadata": {},
   "source": [
    "## 5. Experimental evidence that implementation matches the theoretically expected rates"
   ]
  },
  {
   "cell_type": "markdown",
   "metadata": {},
   "source": [
    "### 5.1 Memory size as a function of the false positive rate"
   ]
  },
  {
   "cell_type": "markdown",
   "metadata": {},
   "source": [
    "* We will fix $n$ at $100$ items"
   ]
  },
  {
   "cell_type": "code",
   "execution_count": 105,
   "metadata": {},
   "outputs": [
    {
     "data": {
      "image/png": "[encoded data removed]",
      "text/plain": [
       "<Figure size 432x288 with 1 Axes>"
      ]
     },
     "metadata": {
      "needs_background": "light"
     },
     "output_type": "display_data"
    }
   ],
   "source": [
    "# Import necessary libraries\n",
    "import matplotlib.pyplot as plt\n",
    "\n",
    "# False positive rates list\n",
    "p_rates = []\n",
    "# Memory size\n",
    "m_sizes = []\n",
    "\n",
    "# Items n\n",
    "n = 100\n",
    "\n",
    "\n",
    "\n",
    "for p in range (1,100): #from probability 1% to 100%\n",
    "    # Produce a list of random words of size n\n",
    "    rword_list = randomwords_list(n,11)\n",
    "    \n",
    "    # false positive rate\n",
    "    p_rate = p / 100 # We will use the value as a decimal\n",
    "    \n",
    "    # corresponding k\n",
    "    k = required_k(p_rate,n)\n",
    "    hashes_list = hash_functions_generator(k)\n",
    "    \n",
    "    # Bloom Filter Table\n",
    "    bfilter = empty_bloom_filter(p_rate, n)\n",
    "    \n",
    "    # Insert elements - **not necessary**, as \n",
    "    # we are only interested in the size of the table m.\n",
    "    # But we'll do it for the sake of full expliciteness...\n",
    "    for i in range(len(rword_list)):\n",
    "        add_to_hash_table(bfilter, rword_list[i], hashes_list)\n",
    "        \n",
    "        \n",
    "    # Append the information and results of this experiment.\n",
    "    m_sizes.append(len(bfilter))\n",
    "    p_rates.append(p_rate)\n",
    "    \n",
    "    \n",
    "# Time to plot the results.\n",
    "plt.scatter(p_rates,m_sizes,c='r')\n",
    "# Improve the layout of the graph\n",
    "plt.title('Figure 1. \\n Memory size as a function of \\nthe false positive rates')\n",
    "plt.xlabel('False Positive Rate (p)')\n",
    "plt.ylabel('Memory Size (m)')\n",
    "\n",
    "plt.show()\n",
    "    "
   ]
  },
  {
   "cell_type": "markdown",
   "metadata": {},
   "source": [
    "This result matches the theoretically expected rate of:\n",
    "\n",
    "$m\\approx-\\frac{n \\ln p}{(ln2)^2}\\longrightarrow O(\\ln p)$"
   ]
  },
  {
   "cell_type": "markdown",
   "metadata": {},
   "source": [
    "However, one may note that the shape of the graph evidently goes downwards. This is because $\\ln p$, for $0 \\leq p \\leq 1$, will yield a negative value, but the formula for the approximation of $m$ multiplies by $-1$, yielding a positive value so that as $p$ increases, $m$ decreases. Still, we must describe the space complexity in terms of $p$ as of being $O(\\ln p)$, following the rules of asymptotic notation. The interpretation is that for sufficiently large $p$, the memory size $m$ will still necessarily lie below $f(p)=c_1*\\ln p$. \n",
    "\n",
    "#### **Certainly**, this interpretation in terms of asymptotic notation is misleading and misses several properties that can be appreciated in the graph **(e.g., the lower $p$, the infinitely more memory space $m$ that will be needed)** - that are particularly relevant becuause the values that can take $p$ are constrained to $0\\leq p \\leq1$. Or, as we previously suggested:\n",
    "\n",
    "### $m \\propto \\frac{1}{p}$\n",
    "\n",
    "The moral is that asymptotic notation should not be used to describe variables that we do not intend to define as a function of $n$."
   ]
  },
  {
   "cell_type": "markdown",
   "metadata": {},
   "source": [
    "### 5.2 Memory size as a function of the number of items stored"
   ]
  },
  {
   "cell_type": "markdown",
   "metadata": {},
   "source": [
    "* We will assumme a desired false positive rate of $p=1\\%$\n",
    "* This yields a value of $k=-\\frac{\\ln p}{\\ln 2}=-\\log_2 p=-\\log_2 0.1=3.32\\approx3$\n",
    "\n",
    "Then, the memory size (m) as a function of the number of items stored n varies as follows."
   ]
  },
  {
   "cell_type": "code",
   "execution_count": 126,
   "metadata": {},
   "outputs": [
    {
     "data": {
      "image/png": "[encoded data removed]",
      "text/plain": [
       "<Figure size 432x288 with 1 Axes>"
      ]
     },
     "metadata": {
      "needs_background": "light"
     },
     "output_type": "display_data"
    }
   ],
   "source": [
    "# Import necessary libraries\n",
    "import matplotlib.pyplot as plt\n",
    "\n",
    "# Number of items stored n\n",
    "n_sizes = []\n",
    "# Memory size\n",
    "m_sizes = []\n",
    "\n",
    "# False positive rate p\n",
    "p = 0.1\n",
    "k = required_k(p) # yields k = 3\n",
    "\n",
    "hashes_list = hash_functions_generator(k)\n",
    "\n",
    "\n",
    "\n",
    "for n in range (1,1000): #from n = 1 to n = 1000\n",
    "    # Produce a list of random words of size n\n",
    "    rword_list = randomwords_list(n,11)\n",
    "    \n",
    "        \n",
    "    # Bloom Filter Table\n",
    "    bfilter = empty_bloom_filter(p, n)\n",
    "    \n",
    "    # Insert elements - **not necessary**, as \n",
    "    # we are only interested in the size of the table m.\n",
    "    # But we'll do it for the sake of full expliciteness...\n",
    "    for i in range(len(rword_list)):\n",
    "        add_to_hash_table(bfilter, rword_list[i], hashes_list)\n",
    "        \n",
    "        \n",
    "    # Append the information and results of this experiment.\n",
    "    n_sizes.append(n)\n",
    "    m_sizes.append(len(bfilter))\n",
    "    \n",
    "    \n",
    "# Time to plot the results.\n",
    "plt.scatter(n_sizes,m_sizes,c='r')\n",
    "# Improve the layout of the graph\n",
    "plt.title('Figure 1. \\n Memory size as a function of \\nthe number of items stored')\n",
    "plt.xlabel('Number of items (n)')\n",
    "plt.ylabel('Memory Size (m)')\n",
    "\n",
    "plt.show()\n",
    "    "
   ]
  },
  {
   "cell_type": "markdown",
   "metadata": {},
   "source": [
    "This result matches the theoretically expected rate of:\n",
    "\n",
    "$m\\approx-\\frac{n \\ln p}{(ln2)^2}\\longrightarrow O(n)$\n"
   ]
  },
  {
   "cell_type": "markdown",
   "metadata": {},
   "source": [
    "### 5.3 Access time as a function of the false positive rate"
   ]
  },
  {
   "cell_type": "code",
   "execution_count": 150,
   "metadata": {},
   "outputs": [
    {
     "data": {
      "image/png": "[encoded data removed]",
      "text/plain": [
       "<Figure size 432x288 with 1 Axes>"
      ]
     },
     "metadata": {
      "needs_background": "light"
     },
     "output_type": "display_data"
    }
   ],
   "source": [
    "# Import necessary libraries\n",
    "import time\n",
    "import matplotlib.pyplot as plt\n",
    "\n",
    "# False positive rates list\n",
    "p_rates = []\n",
    "# Access times\n",
    "all_access_times = []\n",
    "\n",
    "# Items n\n",
    "n = 100\n",
    "\n",
    "\n",
    "\n",
    "for p in range (1,100): #from probability 1% to 100%\n",
    "    # Produce a list of random words of size n\n",
    "    rword_list = randomwords_list(n,11)\n",
    "    \n",
    "    # false positive rate\n",
    "    p_rate = p / 100 # We will use the value as a decimal\n",
    "    \n",
    "    # corresponding k\n",
    "    k = required_k(p_rate)\n",
    "    hashes_list = hash_functions_generator(k)\n",
    "    \n",
    "    # Bloom Filter Table\n",
    "    bfilter = empty_bloom_filter(p_rate, n)\n",
    "    \n",
    "    # Insert elements\n",
    "    for i in range(len(rword_list)):\n",
    "        add_to_hash_table(bfilter, rword_list[i], hashes_list)\n",
    "        \n",
    "    # Track access time, by accessing all elements and taking the avg\n",
    "    start_time = time.time()\n",
    "    \n",
    "    for i in range(len(rword_list)):\n",
    "        contains(bfilter,rword_list[i],hashes_list)\n",
    "    \n",
    "    total_time = time.time() - start_time\n",
    "    \n",
    "    # access_time stands for the time it takes to access any given element\n",
    "    # under this circumnstances (i.g., m being of a particular size)\n",
    "    access_time = total_time / n\n",
    "    \n",
    "    # Append the information and results of this experiment.\n",
    "    p_rates.append(p_rate)\n",
    "    all_access_times.append(access_time)\n",
    "    \n",
    "    \n",
    "# Time to plot the results.\n",
    "plt.scatter(p_rates,all_access_times,c='r')\n",
    "# Improve the layout of the graph\n",
    "plt.title('Figure 1. \\n Access time as a function of \\nthe false positive rates')\n",
    "plt.xlabel('False Positive Rate (p)')\n",
    "plt.ylabel('Access time (sec)')\n",
    "\n",
    "plt.show()"
   ]
  },
  {
   "cell_type": "markdown",
   "metadata": {},
   "source": [
    "### 5.4 Access time as a function of the number of items stored"
   ]
  },
  {
   "cell_type": "code",
   "execution_count": 149,
   "metadata": {},
   "outputs": [
    {
     "data": {
      "image/png": "[encoded data removed]",
      "text/plain": [
       "<Figure size 432x288 with 1 Axes>"
      ]
     },
     "metadata": {
      "needs_background": "light"
     },
     "output_type": "display_data"
    }
   ],
   "source": [
    "# Import necessary libraries\n",
    "import time\n",
    "import matplotlib.pyplot as plt\n",
    "\n",
    "# Number of items stored\n",
    "n_items = []\n",
    "# Access times\n",
    "all_access_times = []\n",
    "\n",
    "# Hash functions to be used\n",
    "p = 0.1\n",
    "k = required_k(p)\n",
    "hashes_list = hash_functions_generator(k)\n",
    "\n",
    "# Track the access times for the interval m [1,1000]\n",
    "\n",
    "for n in range(1,1000):\n",
    "    #Produce a list of random words of size n\n",
    "    rword_list = randomwords_list(n,11)\n",
    "    \n",
    "    # Bloom Filter Table\n",
    "    bfilter_table = empty_bloom_filter(p,n)\n",
    "    \n",
    "    # Insert elements\n",
    "    for i in range(len(rword_list)):\n",
    "        add_to_hash_table(bfilter_table, rword_list[i], hashes_list)\n",
    "        \n",
    "    # Track access time, by accessing all elements and taking the avg\n",
    "    start_time = time.time()\n",
    "    \n",
    "    # ACCESS STUFF!!!!!!!\n",
    "    for i in range(len(rword_list)):\n",
    "        contains(bfilter,rword_list[i],hashes_list)\n",
    "    \n",
    "    total_time = time.time() - start_time\n",
    "    \n",
    "    # access_time stands for the time it takes to access any given element\n",
    "    # under this circumnstances (i.g., m being of a particular size)\n",
    "    access_time = total_time / n\n",
    "    \n",
    "    # Append the information and results of this experiment\n",
    "    n_items.append(n)\n",
    "    all_access_times.append(access_time)\n",
    "        \n",
    "\n",
    "        \n",
    "# Time to plot the results.\n",
    "plt.scatter(n_items,all_access_times,c='r')\n",
    "# Improve the layout of the graph\n",
    "plt.title('Figure 1. \\n Access time as a function of \\nthe number of items stored')\n",
    "plt.xlabel('Number of items (n)')\n",
    "plt.ylabel('Access Time (sec)')\n",
    "\n",
    "plt.show()"
   ]
  },
  {
   "cell_type": "markdown",
   "metadata": {},
   "source": [
    "This result matches the theoretically expected rate of:\n",
    "\n",
    "$Access\\ Time_{(n)}=O(k)\\rightarrow O(1)$"
   ]
  },
  {
   "cell_type": "markdown",
   "metadata": {},
   "source": [
    "## Appendix"
   ]
  },
  {
   "cell_type": "markdown",
   "metadata": {},
   "source": [
    "1. **#algorithms:** Particularly for the generation of a list of hash functions, creatively crafted an algorithmic strategy that allowed me to ease the rest of the implementation of the counting bloom filter. This is the result of regularly writing computer code, which has expanded my ability to solve problems quickly and effectively."
   ]
  },
  {
   "cell_type": "markdown",
   "metadata": {},
   "source": [
    "## References"
   ]
  },
  {
   "cell_type": "markdown",
   "metadata": {},
   "source": [
    " 1. Starobinski, D., Trachtenberg, A., Agarwal, S. (2003). \"Efficient PDA Synchronization\", IEEE Transactions on Mobile Computing, vol. 2, no. 01, pp. 40-51\n",
    " \n",
    " 2. Hurner's rule http://cseweb.ucsd.edu/~kube/cls/100/Lectures/lec16/lec16-14.html"
   ]
  },
  {
   "cell_type": "code",
   "execution_count": null,
   "metadata": {},
   "outputs": [],
   "source": []
  }
 ],
 "metadata": {
  "kernelspec": {
   "display_name": "Python 3",
   "language": "python",
   "name": "python3"
  },
  "language_info": {
   "codemirror_mode": {
    "name": "ipython",
    "version": 3
   },
   "file_extension": ".py",
   "mimetype": "text/x-python",
   "name": "python",
   "nbconvert_exporter": "python",
   "pygments_lexer": "ipython3",
   "version": "3.6.4"
  }
 },
 "nbformat": 4,
 "nbformat_minor": 2
}
