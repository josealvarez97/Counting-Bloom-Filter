{
 "cells": [
  {
   "cell_type": "markdown",
   "metadata": {},
   "source": [
    "# Assignment 2 - CS110"
   ]
  },
  {
   "cell_type": "markdown",
   "metadata": {},
   "source": [
    "## 1. Counting Bloom Filters - An Overview"
   ]
  },
  {
   "cell_type": "markdown",
   "metadata": {},
   "source": [
    "**The problem:**\n",
    "\n",
    "Let us aim for a data structure that supports the necessary operations to know whether a given element $e$ is in the set $A$. \n",
    "\n",
    "**The simplest, but inneficient, solution:**\n",
    "\n",
    "The simplest way to achieve this would be through the use of a linear vector $v$ that stores each of the elements in $A$. The operation to check whether the element is in the set or not would consist in iterating $v$ and checking each of the positions in the vector. It is trivial that such operation would have a time complexity of $O(n)$.\n",
    "\n",
    "**How to do a little bit better?**\n",
    "\n",
    "We may do better if we store the elements in a hash table that allows us to access the elements (and hence check whether they exist or not) in $\\Theta(1)$ time. But this would be a waste of space. We would be storing the elements even though we are only interested in checking whether they are in the set $A$ or not.\n",
    "\n",
    "Instead, it would be more efficient to just record their \"existence\" in the set. In other words, to use only one bit of information to record either **$(1)$ if $e$ is in $A$**, or **$(0)$ if $e$ is *not* in $A$**. We would certainly start with a hash table filled with zeros, and would switch bits in the aproppriate cells to one after building the table (inserting the elements of $A$).\n",
    "\n",
    "However, under this setting, collisions are devastating. We cannot possibly differentiate whether the $1$ already placed in a given cell corresponds to the existence of the element $e$ that a query is asking for (in addition, traditional approaches to handle collisions in hash tables would not be applicable). \n",
    "\n",
    "**How to, actually, do better? - *BLOOM FILTERS***\n",
    "\n",
    "**We may use, then,** more than one hash function ($h_1,h_2,h_3...$) to place a $1$ in each of the different slots that the set of hash functions being used return for a given element $e$. Then, when querying for an element, it will be *unlikely* that all the slots returned by all the hashes for a given element $e_1$ as input, will be exactly the same one as for another element $e_2$. This is the idea of a ***Bloom Filter***.\n",
    "\n",
    "One may emphasize on the use of the word *unlikely*. It is still, essentially, possible that two elements point toward the same exact slots. **In addition**, it is also quite (and more) possible that an element $e_1$ points toward slots that interfere with the ones of many other elements (not necessarily only the ones of $e_2$, but also either $e_3, e_4, ..., e_n$). When this happens, the query will equivocally return that the element exist - this is known as a **false positive**. The opposite, **false negatives**, cannot (trivially) occur because if an element was ever inserted, all the corresponding slots would have been switched to one after building the table.\n",
    "\n",
    "The number of hash functions used is denoted by $k$. Depending on the value of $k$ and the number of elements $m$, the ratio of false positives will be more, or less, optimal.\n",
    "\n",
    "So, even though we do not get rid entirely of the possibility of false positives, Bloom Filters are certainly a step forward toward making such possibility more unlikely (compared to the possible approach described in the previous section). One may also note that if one actually chooses $k=1$, the Bloom Filter is essentially equivalent to such approach in the previous section (but no one would ever certainly do that, unless we want to ruin the whole purpose of Bloom Filters). \n",
    "\n",
    "#### **What about deletions..? - *COUNTING BLOOM FILTERS***\n",
    "\n",
    "Traditional bloom filters cannot support the removal of items, because if we remove a $1$ (switch the respective bit to $0$) from a slot, it is likely that we will be affecting the slots of many other elements - allowing the possibility of later having several false negatives.\n",
    "\n",
    "A way to resolve this is through the use of a ***Counting Bloom Filter***. In Counting Bloom Filters, there is a (n-bit) counter on each slot of the table, instead of just a single bit of information for representing either just $1$ or $0$. The counter goes up every time a value is inserted, and down every time a value is removed. For example, if we aim to remove element $e_1$, all counters of all the corresponding slots in the Counting Bloom Filter go down by one. Later, when we do a query for $e_1$, we would expect that it is *likely* that at least one of the corresponding slots for $e_1$ would have gone down to zero (but not necessarily all of them). If that is the (likely) case, the query returns negative, as we would expect. On the other hand, if that is not the case (because enough other elements were \"inserted\" in the same slots corresponding to $e_1$), the query would unfortunately return a false positive (not a negative, as it \"should\" have). \n"
   ]
  },
  {
   "cell_type": "markdown",
   "metadata": {},
   "source": [
    "## 2. Implementation of a Counting Bloom Filter"
   ]
  },
  {
   "cell_type": "code",
   "execution_count": 38,
   "metadata": {},
   "outputs": [],
   "source": [
    "import random\n",
    "import string\n",
    "\n",
    "\n",
    "def randomword(length):\n",
    "    return ''.join(random.choice(string.ascii_lowercase) for i in range(length))\n",
    "\n",
    "def randomwords_list(list_length, word_length):\n",
    "    rword_list = []\n",
    "    \n",
    "    for i in range(list_length):\n",
    "        rword = randomword(word_length)\n",
    "        rword_list.append(rword)\n",
    "        \n",
    "    return rword_list\n",
    "        \n",
    "    \n",
    "\n",
    "def empty_hash_table(N):\n",
    "    return [0 for n in range(N)]\n",
    "\n",
    "\n",
    "def add_to_hash_table(hash_table, item, hash_functions):\n",
    "    N = len(hash_table)\n",
    "    \n",
    "    for i in range(len(hash_functions)):\n",
    "        index = hash_functions[i](item) % N    \n",
    "        hash_table[index] += 1\n",
    "    \n",
    "    return hash_table\n",
    "\n",
    "\n",
    "def contains(hash_table, item, hash_functions):\n",
    "    N = len(hash_table)\n",
    "    \n",
    "    for i in range(len(hash_functions)):\n",
    "        index = hash_functions[i](item) % N  \n",
    "        \n",
    "        if hash_table[index] == 0:\n",
    "            return False\n",
    "        \n",
    "    return True\n",
    "    \n",
    "    # return true if the item has already been stored in the hash_table\n",
    "\n",
    "\n",
    "def remove(hash_table, item, hash_functions):\n",
    "    if not contains(hash_table, item, hash_functions):\n",
    "        raise ValueError()\n",
    "\n",
    "    N = len(hash_table)\n",
    "    \n",
    "    for i in range(len(hash_functions)):\n",
    "        index = hash_functions[i](item) % N\n",
    "        if hash_table[index] != 0:\n",
    "            hash_table[index] -= 1\n",
    "    \n",
    "    return hash_table\n",
    "\n",
    "\n",
    "def hash_str1(string):\n",
    "    ans = 0\n",
    "    for chr in string:\n",
    "        ans += ord(chr)\n",
    "    return ans\n",
    "\n",
    "\n",
    "def hash_str2(string):\n",
    "    ans = 0\n",
    "    for chr in string:\n",
    "        ans = ans ^ ord(chr)\n",
    "    return ans\n",
    "\n",
    "\n",
    "def hash_str3(string):\n",
    "    ans = 0\n",
    "    for chr in string:\n",
    "        ans = ans * 128 + ord(chr)\n",
    "    return ans\n",
    "\n",
    "\n",
    "def hash_str4(string):\n",
    "    random.seed(ord(string[0]))\n",
    "    return random.getrandbits(32)"
   ]
  },
  {
   "cell_type": "code",
   "execution_count": 36,
   "metadata": {},
   "outputs": [
    {
     "name": "stdout",
     "output_type": "stream",
     "text": [
      "Table:  [0, 0, 0, 0, 0, 0, 0, 0, 0, 0, 0, 0, 0, 0, 0, 0, 0, 0, 0, 0, 3, 3, 3, 0, 0, 0, 0, 0, 0, 0, 0, 1, 1, 0, 0, 0, 0, 0, 0, 0, 0, 0, 0, 0, 0, 0, 0, 0, 0, 0, 0, 0, 0, 0, 0, 0, 0, 0, 0, 0, 0, 0, 0, 0, 0, 0, 0, 0, 0, 0, 0, 1, 0, 0, 0, 0, 0, 0, 0, 0, 0, 0, 0, 0, 0, 0, 0, 0, 0, 0, 0, 0, 0, 0, 0, 0, 0, 0, 0, 0]\n",
      "\n",
      "...Adding x...\n",
      "...Adding y...\n",
      "...Adding z...\n",
      "\n",
      "Contains x? True\n",
      "Contains y? True\n",
      "Contains z? True\n",
      "Contains a (An element that was never inserted) ? False\n",
      "\n",
      "...Removing y...\n",
      "\n",
      "Contains x? True\n",
      "Contains y? False\n",
      "Contains z? True\n",
      "\n",
      "...Removing x...\n",
      "\n",
      "Contains x? False\n",
      "Contains y? False\n",
      "Contains z? True\n",
      "\n",
      "...Removing z...\n",
      "\n",
      "Contains x? False\n",
      "Contains y? False\n",
      "Contains z? False\n",
      "\n",
      "Table:  [0, 0, 0, 0, 0, 0, 0, 0, 0, 0, 0, 0, 0, 0, 0, 0, 0, 0, 0, 0, 0, 0, 0, 0, 0, 0, 0, 0, 0, 0, 0, 0, 0, 0, 0, 0, 0, 0, 0, 0, 0, 0, 0, 0, 0, 0, 0, 0, 0, 0, 0, 0, 0, 0, 0, 0, 0, 0, 0, 0, 0, 0, 0, 0, 0, 0, 0, 0, 0, 0, 0, 0, 0, 0, 0, 0, 0, 0, 0, 0, 0, 0, 0, 0, 0, 0, 0, 0, 0, 0, 0, 0, 0, 0, 0, 0, 0, 0, 0, 0]\n"
     ]
    }
   ],
   "source": [
    "rword = randomword(11)\n",
    "\n",
    "\n",
    "htable = empty_hash_table(100)\n",
    "\n",
    "hashes_list = []\n",
    "hashes_list.append(hash_str1)\n",
    "hashes_list.append(hash_str2)\n",
    "hashes_list.append(hash_str3)\n",
    "hashes_list.append(hash_str4)\n",
    "#print(hashes_list)\n",
    "\n",
    "add_to_hash_table(htable, \"x\", hashes_list)\n",
    "add_to_hash_table(htable, \"y\", hashes_list)\n",
    "add_to_hash_table(htable, \"z\", hashes_list)\n",
    "print(\"Table: \", htable)\n",
    "\n",
    "print(\"\\n...Adding x...\")\n",
    "print(\"...Adding y...\")\n",
    "print(\"...Adding z...\\n\")\n",
    "\n",
    "\n",
    "print(\"Contains x?\", contains(htable, \"z\", hashes_list))\n",
    "print(\"Contains y?\", contains(htable, \"y\", hashes_list))\n",
    "print(\"Contains z?\", contains(htable, \"z\", hashes_list))\n",
    "\n",
    "print(\"Contains a (An element that was never inserted) ?\", contains(htable, \"a\", hashes_list))\n",
    "\n",
    "\n",
    "\n",
    "print(\"\\n...Removing y...\\n\")\n",
    "remove(htable, \"y\", hashes_list)\n",
    "print(\"Contains x?\", contains(htable, \"x\", hashes_list))\n",
    "print(\"Contains y?\", contains(htable, \"y\", hashes_list))\n",
    "print(\"Contains z?\", contains(htable, \"z\", hashes_list))\n",
    "\n",
    "print(\"\\n...Removing x...\\n\")\n",
    "remove(htable, \"x\", hashes_list)\n",
    "print(\"Contains x?\", contains(htable, \"x\", hashes_list))\n",
    "print(\"Contains y?\", contains(htable, \"y\", hashes_list))\n",
    "print(\"Contains z?\", contains(htable, \"z\", hashes_list))\n",
    "\n",
    "print(\"\\n...Removing z...\\n\")\n",
    "remove(htable, \"z\", hashes_list)\n",
    "print(\"Contains x?\", contains(htable, \"x\", hashes_list))\n",
    "print(\"Contains y?\", contains(htable, \"y\", hashes_list))\n",
    "print(\"Contains z?\", contains(htable, \"z\", hashes_list))\n",
    "\n",
    "print(\"\\nTable: \", htable)\n",
    "\n",
    "\n",
    "\n",
    "\n"
   ]
  },
  {
   "cell_type": "markdown",
   "metadata": {},
   "source": [
    "## 3. Description of Implemented Hash Functions"
   ]
  },
  {
   "cell_type": "markdown",
   "metadata": {},
   "source": []
  },
  {
   "cell_type": "markdown",
   "metadata": {},
   "source": [
    "## 4. Scale of Growth of Different Variables "
   ]
  },
  {
   "cell_type": "markdown",
   "metadata": {},
   "source": [
    "### 4.1 Memory size as a function of the false positive rate"
   ]
  },
  {
   "cell_type": "markdown",
   "metadata": {},
   "source": [
    "*A Bloom filter with 1% error and an optimal value of k, in contrast, requires only about 9.6 bits per element, regardless of the size of the elements.*\n",
    "\n",
    "*The 1% false-positive rate can be reduced by a factor of ten by adding only about 4.8 bits per element.*\n",
    "\n",
    "*To understand its space efficiency, it is instructive to compare the general Bloom filter with its special case when k = 1. If k = 1, then in order to keep the false positive rate sufficiently low, a small fraction of bits should be set, which means the array must be very large and contain long runs of zeros. The information content of the array relative to its size is low. The generalized Bloom filter (k greater than 1) allows many more bits to be set while still maintaining a low false positive rate; if the parameters (k and m) are chosen well, about half of the bits will be set,[5] and these will be apparently random, minimizing redundancy and maximizing information content.*\n",
    "\n",
    "\n",
    "**Actual numbers...**\n",
    "\n",
    "*The probability of all of them being 1, which would cause the algorithm to erroneously claim that the element is in the set, is often given as*\n",
    "\n",
    "$\\approx(1-e^{-kn/m})^k$\n",
    "\n",
    "*This is not strictly correct as it assumes independence for the probabilities of each bit being set. However, assuming it is a close approximation we have that the probability of false positives decreases as m (the number of bits in the array) increases, and increases as n (the number of inserted elements) increases.*\n",
    "\n",
    "\n",
    "\n",
    "\n",
    "**Actually, what I was looking for is**\n",
    "\n",
    "*This means that for a given false positive probability p, the length of a Bloom filter m is proportionate to the number of elements being filtered n and the required number of hash functions only depends on the target false positive probability p.[8]*\n",
    "\n",
    "\n",
    "\n",
    "\n",
    "\n"
   ]
  },
  {
   "cell_type": "markdown",
   "metadata": {},
   "source": [
    "### 4.2 Memory size as a function of the number of items stored"
   ]
  },
  {
   "cell_type": "markdown",
   "metadata": {},
   "source": [
    "$m=-\\frac{n \\ln p}{(ln2)^2}$\n",
    "\n",
    "*This means that for a given false positive probability p, the length of a Bloom filter m is proportionate to the number of elements being filtered n and the required number of hash functions only depends on the target false positive probability p.[8]*\n"
   ]
  },
  {
   "cell_type": "markdown",
   "metadata": {},
   "source": [
    "### 4.3 Access time as a function of the false positive rate"
   ]
  },
  {
   "cell_type": "markdown",
   "metadata": {},
   "source": [
    "Because the Bloom Filters rely on hashes to insert and access the slots in the table, the access time is described by $O(1)$. In other words, access time is only affected in proportion to $k$, which is a constant, but not in proportion to $m$. I.g., $O(k) \\rightarrow O(1)$.  "
   ]
  },
  {
   "cell_type": "markdown",
   "metadata": {},
   "source": [
    "### 4.4 Access time as a function of the number of items stored"
   ]
  },
  {
   "cell_type": "markdown",
   "metadata": {},
   "source": [
    "Under the same reasoning, because the Bloom Filters rely on hashes to insert and access the slots in the table, the access time is described by $O(1)$."
   ]
  },
  {
   "cell_type": "markdown",
   "metadata": {},
   "source": [
    "## 5. Experimental evidence that implementation matches the theoretically expected rate"
   ]
  },
  {
   "cell_type": "markdown",
   "metadata": {},
   "source": [
    "### 5.1 Memory size as a function of the false positive rate"
   ]
  },
  {
   "cell_type": "code",
   "execution_count": null,
   "metadata": {},
   "outputs": [],
   "source": []
  },
  {
   "cell_type": "markdown",
   "metadata": {},
   "source": [
    "### 5.2 Memory size as a function of the number of items stored"
   ]
  },
  {
   "cell_type": "markdown",
   "metadata": {},
   "source": [
    "* We will assumme a desired false positive rate of $p=1%$\n",
    "* This yields a value of $k=k_1$\n",
    "\n",
    "Then, the memory size (m) as a function of the number of items stored n varies as follows."
   ]
  },
  {
   "cell_type": "code",
   "execution_count": null,
   "metadata": {},
   "outputs": [],
   "source": []
  },
  {
   "cell_type": "markdown",
   "metadata": {},
   "source": [
    "This result matches the theoretically expected rate of ..."
   ]
  },
  {
   "cell_type": "markdown",
   "metadata": {},
   "source": [
    "### 5.3 Access time as a function of the false positive rate"
   ]
  },
  {
   "cell_type": "code",
   "execution_count": null,
   "metadata": {},
   "outputs": [],
   "source": []
  },
  {
   "cell_type": "markdown",
   "metadata": {},
   "source": [
    "### 5.4 Access time as a function of the number of items stored"
   ]
  },
  {
   "cell_type": "code",
   "execution_count": 42,
   "metadata": {},
   "outputs": [
    {
     "data": {
      "text/plain": [
       "Text(0,0.5,'(Avg) Access Time of a given item e (sec)')"
      ]
     },
     "execution_count": 42,
     "metadata": {},
     "output_type": "execute_result"
    },
    {
     "data": {
      "image/png": "[encoded data removed]",
      "text/plain": [
       "<Figure size 432x288 with 1 Axes>"
      ]
     },
     "metadata": {
      "needs_background": "light"
     },
     "output_type": "display_data"
    }
   ],
   "source": [
    "# Import necessary libraries\n",
    "import time\n",
    "import matplotlib.pyplot as plt\n",
    "\n",
    "# Number of items stored\n",
    "m_items = []\n",
    "# Access times\n",
    "all_access_times = []\n",
    "\n",
    "# Hash functions to be used\n",
    "hashes_list = []\n",
    "hashes_list.append(hash_str1)\n",
    "hashes_list.append(hash_str2)\n",
    "hashes_list.append(hash_str3)\n",
    "hashes_list.append(hash_str4)\n",
    "\n",
    "\n",
    "# Track the access times for the interval m [1,1000]\n",
    "\n",
    "for m in range(1,1000):\n",
    "    #Produce a list of random words of size m\n",
    "    rword_list = randomwords_list(m,11)\n",
    "    \n",
    "    # Bloom Filter Table\n",
    "    bfilter_table = empty_hash_table(1000)\n",
    "    \n",
    "    # Insert elements\n",
    "    for i in range(len(rword_list)):\n",
    "        add_to_hash_table(bfilter_table, rword_list[i], hashes_list)\n",
    "        \n",
    "    # Track access time, by accessing all elements and taking the avg\n",
    "    start_time = time.time()\n",
    "    \n",
    "    total_time = time.time() - start_time\n",
    "    \n",
    "    # access_time stands for the time it takes to access any given element\n",
    "    # under this circumnstances (i.g., m being of a particular size)\n",
    "    access_time = total_time / m\n",
    "    \n",
    "    # Append the information and results of this experiment\n",
    "    m_items.append(m)\n",
    "    all_access_times.append(access_time)\n",
    "        \n",
    "\n",
    "        \n",
    "# Time to plot the results.\n",
    "plt.scatter(m_items,all_access_times,c='r')\n",
    "# Improve the layout of the graph\n",
    "plt.title('Figure 1. \\n Access time as a function of the number of items stored (seconds)')\n",
    "plt.xlabel('Number of itmes (m)')\n",
    "plt.ylabel('(Avg) Access Time of a given item e (sec)')"
   ]
  },
  {
   "cell_type": "markdown",
   "metadata": {},
   "source": [
    "As expected, because the Bloom Filters rely on hashes to insert and access the slots in the table, the access time is described by $O(1)$."
   ]
  },
  {
   "cell_type": "markdown",
   "metadata": {},
   "source": []
  },
  {
   "cell_type": "markdown",
   "metadata": {},
   "source": []
  },
  {
   "cell_type": "markdown",
   "metadata": {},
   "source": []
  }
 ],
 "metadata": {
  "kernelspec": {
   "display_name": "Python 3",
   "language": "python",
   "name": "python3"
  },
  "language_info": {
   "codemirror_mode": {
    "name": "ipython",
    "version": 3
   },
   "file_extension": ".py",
   "mimetype": "text/x-python",
   "name": "python",
   "nbconvert_exporter": "python",
   "pygments_lexer": "ipython3",
   "version": "3.6.4"
  }
 },
 "nbformat": 4,
 "nbformat_minor": 2
}
